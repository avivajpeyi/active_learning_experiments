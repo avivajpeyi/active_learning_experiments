{
 "cells": [
  {
   "cell_type": "markdown",
   "source": [
    "# PP test"
   ],
   "metadata": {
    "collapsed": false
   }
  },
  {
   "cell_type": "code",
   "execution_count": null,
   "outputs": [
    {
     "name": "stderr",
     "output_type": "stream",
     "text": [
      "|\u001B[34mCOMPAS-SUR\u001B[0m|24/08 13:15:01|INFO| Generating injection file with n=10 \n",
      "|\u001B[34mCOMPAS-SUR\u001B[0m|24/08 13:15:01|INFO| Generated injection file: out_pp_ntrain_500/injection_ids.csv \n",
      "|\u001B[34mCOMPAS-SUR\u001B[0m|24/08 13:15:01|INFO| Running inference for 10 injections \n",
      "|\u001B[34mCOMPAS-SUR\u001B[0m|24/08 13:15:01|INFO| Generating cache out_pp_ntrain_500/out_inj_8627/cache_lnl.npz using det_matrix.h5 and universe 8627:MockPopulation(<Universe: [11735 systems], SF=0.012,2.770,2.900,4.833, muz=-2.16e-01, sigma0=3.31e-01>) \n",
      "|\u001B[34mCOMPAS-SUR\u001B[0m|24/08 13:15:01|INFO| Starting LnL computation for 10667 universes \n",
      "|\u001B[34mCOMPAS-SUR\u001B[0m|24/08 13:15:12|INFO| Keeping 10031/10667 likelihoods (dropping nans/inf). \n",
      "|\u001B[34mCOMPAS-SUR\u001B[0m|24/08 13:15:12|SUCCESS| Saved out_pp_ntrain_500/out_inj_8627/cache_lnl.npz \n",
      "|\u001B[34mCOMPAS-SUR\u001B[0m|24/08 13:15:13|ERROR| Failed to run inference for i=8627: name 'plt' is not defined \n",
      "|\u001B[34mCOMPAS-SUR\u001B[0m|24/08 13:15:13|ERROR| Traceback (most recent call last):\n",
      "  File \"/Users/avaj0001/Documents/projects/compas_dev/compas_ml_surrogate/compas_surrogate/pp_test/pp_runner.py\", line 129, in run\n",
      "    self._run_ith_job(i)\n",
      "  File \"/Users/avaj0001/Documents/projects/compas_dev/compas_ml_surrogate/compas_surrogate/pp_test/pp_runner.py\", line 102, in _run_ith_job\n",
      "    run_inference(\n",
      "  File \"/Users/avaj0001/Documents/projects/compas_dev/compas_ml_surrogate/compas_surrogate/inference_runner/run_inference.py\", line 31, in run_inference\n",
      "    data_cache = get_training_lnl_cache(\n",
      "                 ^^^^^^^^^^^^^^^^^^^^^^^\n",
      "  File \"/Users/avaj0001/Documents/projects/compas_dev/compas_ml_surrogate/compas_surrogate/data_generation/likelihood_cacher.py\", line 152, in get_training_lnl_cache\n",
      "    lnl_cache.plot(fname=plt_fname, show_datapoints=True)\n",
      "  File \"/Users/avaj0001/Documents/projects/compas_dev/compas_ml_surrogate/compas_surrogate/liklelihood/likelihood_cache.py\", line 132, in plot\n",
      "    plt.close(fig)\n",
      "    ^^^\n",
      "NameError: name 'plt' is not defined\n",
      " \n",
      "|\u001B[34mCOMPAS-SUR\u001B[0m|24/08 13:15:14|INFO| Generating cache out_pp_ntrain_500/out_inj_2768/cache_lnl.npz using det_matrix.h5 and universe 2768:MockPopulation(<Universe: [11735 systems], SF=0.008,2.770,2.900,5.091, muz=-5.98e-02, sigma0=4.61e-01>) \n",
      "|\u001B[34mCOMPAS-SUR\u001B[0m|24/08 13:15:14|INFO| Starting LnL computation for 10667 universes \n",
      "|\u001B[34mCOMPAS-SUR\u001B[0m|24/08 13:15:23|SUCCESS| Saved out_pp_ntrain_500/out_inj_2768/cache_lnl.npz \n",
      "|\u001B[34mCOMPAS-SUR\u001B[0m|24/08 13:15:24|ERROR| Failed to run inference for i=2768: name 'plt' is not defined \n",
      "|\u001B[34mCOMPAS-SUR\u001B[0m|24/08 13:15:24|ERROR| Traceback (most recent call last):\n",
      "  File \"/Users/avaj0001/Documents/projects/compas_dev/compas_ml_surrogate/compas_surrogate/pp_test/pp_runner.py\", line 129, in run\n",
      "    self._run_ith_job(i)\n",
      "  File \"/Users/avaj0001/Documents/projects/compas_dev/compas_ml_surrogate/compas_surrogate/pp_test/pp_runner.py\", line 102, in _run_ith_job\n",
      "    run_inference(\n",
      "  File \"/Users/avaj0001/Documents/projects/compas_dev/compas_ml_surrogate/compas_surrogate/inference_runner/run_inference.py\", line 31, in run_inference\n",
      "    data_cache = get_training_lnl_cache(\n",
      "                 ^^^^^^^^^^^^^^^^^^^^^^^\n",
      "  File \"/Users/avaj0001/Documents/projects/compas_dev/compas_ml_surrogate/compas_surrogate/data_generation/likelihood_cacher.py\", line 152, in get_training_lnl_cache\n",
      "    lnl_cache.plot(fname=plt_fname, show_datapoints=True)\n",
      "  File \"/Users/avaj0001/Documents/projects/compas_dev/compas_ml_surrogate/compas_surrogate/liklelihood/likelihood_cache.py\", line 132, in plot\n",
      "    plt.close(fig)\n",
      "    ^^^\n",
      "NameError: name 'plt' is not defined\n",
      " \n",
      "|\u001B[34mCOMPAS-SUR\u001B[0m|24/08 13:15:24|INFO| Generating cache out_pp_ntrain_500/out_inj_9151/cache_lnl.npz using det_matrix.h5 and universe 9151:MockPopulation(<Universe: [11735 systems], SF=0.014,2.770,2.900,4.955, muz=-1.81e-01, sigma0=4.58e-01>) \n",
      "|\u001B[34mCOMPAS-SUR\u001B[0m|24/08 13:15:24|INFO| Starting LnL computation for 10667 universes \n",
      "|\u001B[34mCOMPAS-SUR\u001B[0m|24/08 13:15:33|INFO| Keeping 10205/10667 likelihoods (dropping nans/inf). \n",
      "|\u001B[34mCOMPAS-SUR\u001B[0m|24/08 13:15:33|SUCCESS| Saved out_pp_ntrain_500/out_inj_9151/cache_lnl.npz \n",
      "|\u001B[34mCOMPAS-SUR\u001B[0m|24/08 13:15:34|ERROR| Failed to run inference for i=9151: name 'plt' is not defined \n",
      "|\u001B[34mCOMPAS-SUR\u001B[0m|24/08 13:15:34|ERROR| Traceback (most recent call last):\n",
      "  File \"/Users/avaj0001/Documents/projects/compas_dev/compas_ml_surrogate/compas_surrogate/pp_test/pp_runner.py\", line 129, in run\n",
      "    self._run_ith_job(i)\n",
      "  File \"/Users/avaj0001/Documents/projects/compas_dev/compas_ml_surrogate/compas_surrogate/pp_test/pp_runner.py\", line 102, in _run_ith_job\n",
      "    run_inference(\n",
      "  File \"/Users/avaj0001/Documents/projects/compas_dev/compas_ml_surrogate/compas_surrogate/inference_runner/run_inference.py\", line 31, in run_inference\n",
      "    data_cache = get_training_lnl_cache(\n",
      "                 ^^^^^^^^^^^^^^^^^^^^^^^\n",
      "  File \"/Users/avaj0001/Documents/projects/compas_dev/compas_ml_surrogate/compas_surrogate/data_generation/likelihood_cacher.py\", line 152, in get_training_lnl_cache\n",
      "    lnl_cache.plot(fname=plt_fname, show_datapoints=True)\n",
      "  File \"/Users/avaj0001/Documents/projects/compas_dev/compas_ml_surrogate/compas_surrogate/liklelihood/likelihood_cache.py\", line 132, in plot\n",
      "    plt.close(fig)\n",
      "    ^^^\n",
      "NameError: name 'plt' is not defined\n",
      " \n",
      "|\u001B[34mCOMPAS-SUR\u001B[0m|24/08 13:15:34|INFO| Generating cache out_pp_ntrain_500/out_inj_8119/cache_lnl.npz using det_matrix.h5 and universe 8119:MockPopulation(<Universe: [11735 systems], SF=0.009,2.770,2.900,5.170, muz=-6.09e-02, sigma0=3.27e-01>) \n",
      "|\u001B[34mCOMPAS-SUR\u001B[0m|24/08 13:15:34|INFO| Starting LnL computation for 10667 universes \n",
      "|\u001B[34mCOMPAS-SUR\u001B[0m|24/08 13:15:44|SUCCESS| Saved out_pp_ntrain_500/out_inj_8119/cache_lnl.npz \n",
      "|\u001B[34mCOMPAS-SUR\u001B[0m|24/08 13:15:45|ERROR| Failed to run inference for i=8119: name 'plt' is not defined \n",
      "|\u001B[34mCOMPAS-SUR\u001B[0m|24/08 13:15:45|ERROR| Traceback (most recent call last):\n",
      "  File \"/Users/avaj0001/Documents/projects/compas_dev/compas_ml_surrogate/compas_surrogate/pp_test/pp_runner.py\", line 129, in run\n",
      "    self._run_ith_job(i)\n",
      "  File \"/Users/avaj0001/Documents/projects/compas_dev/compas_ml_surrogate/compas_surrogate/pp_test/pp_runner.py\", line 102, in _run_ith_job\n",
      "    run_inference(\n",
      "  File \"/Users/avaj0001/Documents/projects/compas_dev/compas_ml_surrogate/compas_surrogate/inference_runner/run_inference.py\", line 31, in run_inference\n",
      "    data_cache = get_training_lnl_cache(\n",
      "                 ^^^^^^^^^^^^^^^^^^^^^^^\n",
      "  File \"/Users/avaj0001/Documents/projects/compas_dev/compas_ml_surrogate/compas_surrogate/data_generation/likelihood_cacher.py\", line 152, in get_training_lnl_cache\n",
      "    lnl_cache.plot(fname=plt_fname, show_datapoints=True)\n",
      "  File \"/Users/avaj0001/Documents/projects/compas_dev/compas_ml_surrogate/compas_surrogate/liklelihood/likelihood_cache.py\", line 132, in plot\n",
      "    plt.close(fig)\n",
      "    ^^^\n",
      "NameError: name 'plt' is not defined\n",
      " \n",
      "|\u001B[34mCOMPAS-SUR\u001B[0m|24/08 13:15:45|INFO| Generating cache out_pp_ntrain_500/out_inj_2471/cache_lnl.npz using det_matrix.h5 and universe 2471:MockPopulation(<Universe: [11735 systems], SF=0.011,2.770,2.900,4.219, muz=-3.31e-01, sigma0=2.11e-01>) \n",
      "|\u001B[34mCOMPAS-SUR\u001B[0m|24/08 13:15:45|INFO| Starting LnL computation for 10667 universes \n"
     ]
    }
   ],
   "source": [
    "import random\n",
    "\n",
    "from compas_surrogate.pp_test import PPresults, PPrunner\n",
    "\n",
    "H5 = \"det_matrix.h5\"\n",
    "random.seed(1)\n",
    "\n",
    "\n",
    "def run_analyses_and_make_pp_plot(outdir, h5, n_training, n_injections):\n",
    "    runner = PPrunner(\n",
    "        outdir=outdir,\n",
    "        det_matricies_fname=h5,\n",
    "        n_training=n_training,\n",
    "        n_injections=n_injections,\n",
    "        sampler='emcee'\n",
    "    )\n",
    "\n",
    "    runner.generate_injection_file(n=n_injections)\n",
    "    runner.run()\n",
    "    pp_results = PPresults.from_results(f\"{outdir}/out*/*.json\")\n",
    "    pp_results.plot(f\"{outdir}/pp_plot.png\")\n",
    "\n",
    "\n",
    "\n",
    "if __name__ == \"__main__\":\n",
    "    for n_train in [500]:\n",
    "        run_analyses_and_make_pp_plot(\n",
    "            outdir=f\"out_pp_ntrain_{n_train}\",\n",
    "            h5=H5,\n",
    "            n_training=n_train,\n",
    "            n_injections=10,\n",
    "        )\n"
   ],
   "metadata": {
    "collapsed": false,
    "pycharm": {
     "is_executing": true
    }
   }
  }
 ],
 "metadata": {
  "kernelspec": {
   "display_name": "Python 3",
   "language": "python",
   "name": "python3"
  },
  "language_info": {
   "codemirror_mode": {
    "name": "ipython",
    "version": 2
   },
   "file_extension": ".py",
   "mimetype": "text/x-python",
   "name": "python",
   "nbconvert_exporter": "python",
   "pygments_lexer": "ipython2",
   "version": "2.7.6"
  }
 },
 "nbformat": 4,
 "nbformat_minor": 0
}
