{
 "cells": [
  {
   "cell_type": "markdown",
   "source": [
    "# PP test"
   ],
   "metadata": {
    "collapsed": false
   }
  },
  {
   "cell_type": "code",
   "execution_count": null,
   "outputs": [
    {
     "name": "stderr",
     "output_type": "stream",
     "text": [
      "|\u001B[34mCOMPAS-SUR\u001B[0m|24/08 13:25:30|INFO| Generating injection file with n=10 \n",
      "|\u001B[34mCOMPAS-SUR\u001B[0m|24/08 13:25:30|INFO| Generated injection file: out_pp_ntrain_500/injection_ids.csv \n",
      "|\u001B[34mCOMPAS-SUR\u001B[0m|24/08 13:25:30|INFO| Running inference for 10 injections \n",
      "|\u001B[34mCOMPAS-SUR\u001B[0m|24/08 13:25:31|INFO| Generating cache out_pp_ntrain_500/out_inj_884/cache_lnl.npz using det_matrix.h5 and universe 884:MockPopulation(<Universe: [11735 systems], SF=0.007,2.770,2.900,4.420, muz=-3.28e-01, sigma0=2.53e-01>) \n",
      "|\u001B[34mCOMPAS-SUR\u001B[0m|24/08 13:25:31|INFO| Starting LnL computation for 10667 universes \n",
      "|\u001B[34mCOMPAS-SUR\u001B[0m|24/08 13:25:42|INFO| Keeping 9809/10667 likelihoods (dropping nans/inf). \n",
      "|\u001B[34mCOMPAS-SUR\u001B[0m|24/08 13:25:42|SUCCESS| Saved out_pp_ntrain_500/out_inj_884/cache_lnl.npz \n",
      "|\u001B[34mCOMPAS-SUR\u001B[0m|24/08 13:25:44|INFO| Training model out_pp_ntrain_500/out_inj_884/model: IN[(500, 4)]--> OUT[(500, 1)] \n",
      "|\u001B[34mCOMPAS-SUR\u001B[0m|24/08 13:25:44|INFO| Training surrogate In((400, 4))-->Out((400, 1)) [testing:100] \n",
      "|\u001B[34mCOMPAS-SUR\u001B[0m|24/08 13:25:51|INFO| Surrogate metrics: {'train': MAE: 0.77, MSE: 1.05, R2: -0.0, 'test': MAE: 0.76, MSE: 1.04, R2: -0.0} \n",
      "|\u001B[34mCOMPAS-SUR\u001B[0m|24/08 13:25:51|INFO| ✔✔✔ True LnL: -114.10, Surrogate LnL: -114.25 +/- 0.37 ✔✔✔ \n",
      "|\u001B[34mCOMPAS-SUR\u001B[0m|24/08 13:25:51|SUCCESS| Trained and saved Model \n",
      "|\u001B[34mCOMPAS-SUR\u001B[0m|24/08 13:25:51|INFO| Setting up sampler \n",
      "\u001B[33mWARNING: Skipping /usr/local/lib/python3.11/site-packages/numpy-1.25.2-py3.11.egg-info due to invalid metadata entry 'name'\u001B[0m\u001B[33m\n",
      "\u001B[0m\u001B[33mWARNING: Skipping /usr/local/lib/python3.11/site-packages/numpy-1.25.2-py3.11.egg-info due to invalid metadata entry 'name'\u001B[0m\u001B[33m\n",
      "\u001B[0m\u001B[33mWARNING: Skipping /usr/local/lib/python3.11/site-packages/numpy-1.25.2-py3.11.egg-info due to invalid metadata entry 'name'\u001B[0m\u001B[33m\n",
      "\u001B[0m"
     ]
    }
   ],
   "source": [
    "import random\n",
    "\n",
    "from compas_surrogate.pp_test import PPresults, PPrunner\n",
    "\n",
    "H5 = \"det_matrix.h5\"\n",
    "random.seed(1)\n",
    "\n",
    "\n",
    "def run_analyses_and_make_pp_plot(outdir, h5, n_training, n_injections):\n",
    "    runner = PPrunner(\n",
    "        outdir=outdir,\n",
    "        det_matricies_fname=h5,\n",
    "        n_training=n_training,\n",
    "        n_injections=n_injections,\n",
    "        sampler='emcee'\n",
    "    )\n",
    "\n",
    "    runner.generate_injection_file(n=n_injections)\n",
    "    runner.run()\n",
    "    pp_results = PPresults.from_results(f\"{outdir}/out*/*.json\")\n",
    "    pp_results.plot(f\"{outdir}/pp_plot.png\")\n",
    "\n",
    "\n",
    "\n",
    "if __name__ == \"__main__\":\n",
    "    for n_train in [500]:\n",
    "        run_analyses_and_make_pp_plot(\n",
    "            outdir=f\"out_pp_ntrain_{n_train}\",\n",
    "            h5=H5,\n",
    "            n_training=n_train,\n",
    "            n_injections=10,\n",
    "        )\n"
   ],
   "metadata": {
    "collapsed": false,
    "pycharm": {
     "is_executing": true
    }
   }
  },
  {
   "cell_type": "code",
   "execution_count": null,
   "outputs": [],
   "source": [],
   "metadata": {
    "collapsed": false
   }
  }
 ],
 "metadata": {
  "kernelspec": {
   "display_name": "Python 3",
   "language": "python",
   "name": "python3"
  },
  "language_info": {
   "codemirror_mode": {
    "name": "ipython",
    "version": 2
   },
   "file_extension": ".py",
   "mimetype": "text/x-python",
   "name": "python",
   "nbconvert_exporter": "python",
   "pygments_lexer": "ipython2",
   "version": "2.7.6"
  }
 },
 "nbformat": 4,
 "nbformat_minor": 0
}
