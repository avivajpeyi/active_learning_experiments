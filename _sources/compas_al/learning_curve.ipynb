{
 "cells": [
  {
   "cell_type": "markdown",
   "source": [
    "# Learning Curve\n"
   ],
   "metadata": {
    "collapsed": false
   }
  },
  {
   "cell_type": "code",
   "execution_count": null,
   "outputs": [
    {
     "name": "stderr",
     "output_type": "stream",
     "text": [
      "|\u001B[34mCOMPAS-SUR\u001B[0m|24/08 12:18:43|INFO| Generating cache out_learning_curve/cache_lnl.npz using det_matrix.h5 and universe 0:MockPopulation(<Universe: [11735 systems], SF=0.006,2.770,2.900,4.233, muz=-2.66e-01, sigma0=2.73e-01>) \n",
      "|\u001B[34mCOMPAS-SUR\u001B[0m|24/08 12:18:43|INFO| Starting LnL computation for 10667 universes \n"
     ]
    },
    {
     "data": {
      "text/plain": "Computing likelihoods:   0%|          | 0/10667 [00:00<?, ?it/s]",
      "application/vnd.jupyter.widget-view+json": {
       "version_major": 2,
       "version_minor": 0,
       "model_id": "9230714dca514eb887b79410b89d934a"
      }
     },
     "metadata": {},
     "output_type": "display_data"
    },
    {
     "name": "stderr",
     "output_type": "stream",
     "text": [
      "|\u001B[34mCOMPAS-SUR\u001B[0m|24/08 12:18:57|INFO| Keeping 9921/10667 likelihoods (dropping nans/inf). \n",
      "|\u001B[34mCOMPAS-SUR\u001B[0m|24/08 12:18:57|SUCCESS| Saved out_learning_curve/cache_lnl.npz \n"
     ]
    },
    {
     "name": "stdout",
     "output_type": "stream",
     "text": [
      "[learning_curve] Training set sizes: [ 100  300  500  700 1000]\n"
     ]
    },
    {
     "name": "stderr",
     "output_type": "stream",
     "text": [
      "[Parallel(n_jobs=2)]: Using backend LokyBackend with 2 concurrent workers.\n"
     ]
    }
   ],
   "source": [
    "import random\n",
    "\n",
    "from compas_surrogate.surrogate.diagnostics.learning_curve import plot_learning_curve_for_lnl\n",
    "\n",
    "OUTDIR = \"out_learning_curve\"\n",
    "H5 = \"det_matrix.h5\"\n",
    "random.seed(1)\n",
    "\n",
    "if __name__ == \"__main__\":\n",
    "    plot_learning_curve_for_lnl(\n",
    "        OUTDIR, H5, 0,\n",
    "        [100, 300, 500, 700, 1000]\n",
    "    )\n"
   ],
   "metadata": {
    "collapsed": false,
    "pycharm": {
     "is_executing": true
    }
   }
  },
  {
   "cell_type": "markdown",
   "source": [
    "## Learing curve plot\n",
    "![](out_learning_curve/learning_curve.png)\n",
    "\n",
    "## Plot of \"Mock\" universe used for Lnl computation\n",
    "![](out_learning_curve/injection.png)"
   ],
   "metadata": {
    "collapsed": false
   }
  },
  {
   "cell_type": "code",
   "execution_count": null,
   "outputs": [],
   "source": [],
   "metadata": {
    "collapsed": false
   }
  }
 ],
 "metadata": {
  "kernelspec": {
   "display_name": "Python 3",
   "language": "python",
   "name": "python3"
  },
  "language_info": {
   "codemirror_mode": {
    "name": "ipython",
    "version": 2
   },
   "file_extension": ".py",
   "mimetype": "text/x-python",
   "name": "python",
   "nbconvert_exporter": "python",
   "pygments_lexer": "ipython2",
   "version": "2.7.6"
  }
 },
 "nbformat": 4,
 "nbformat_minor": 0
}
