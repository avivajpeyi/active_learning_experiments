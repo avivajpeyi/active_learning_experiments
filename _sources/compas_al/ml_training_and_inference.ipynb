{
 "cells": [
  {
   "cell_type": "markdown",
   "source": [
    "# COMPAS ML LnL training and inference\n",
    "\n",
    "Walkthrough example of running analysis:\n",
    "- Load LnL data\n",
    "- Train GP model\n",
    "- Run inference\n",
    "- Plot results"
   ],
   "metadata": {
    "collapsed": false
   }
  },
  {
   "cell_type": "code",
   "execution_count": 2,
   "outputs": [],
   "source": [
    "import random\n",
    "from compas_surrogate.inference_runner import run_inference\n",
    "\n",
    "\n",
    "OUTDIR = \"out_surr\"\n",
    "H5 = \"det_matrix.h5\"\n",
    "random.seed(1)\n",
    "\n",
    "\n",
    "def main():\n",
    "    n_pts = [1000]\n",
    "    for n in n_pts:\n",
    "        outdir = f\"{OUTDIR}/out_n_{n}\"\n",
    "        run_inference(\n",
    "            outdir=outdir,\n",
    "            n=n,\n",
    "            cache_outdir=OUTDIR,\n",
    "            det_matrix_h5=H5,\n",
    "            universe_id=2500,\n",
    "            clean=False,\n",
    "        )\n",
    "\n",
    "\n",
    "if __name__ == \"__main__\":\n",
    "    main()\n"
   ],
   "metadata": {
    "collapsed": false
   }
  },
  {
   "cell_type": "markdown",
   "source": [
    "## Plots of results\n",
    "\n",
    "### GP Model metrics after training\n",
    "![](out_surr/out_n_1000/model/model_diagnostic.png)\n",
    "\n",
    "The LHS corner shows the distributions of:\n",
    "1. training data (and distributions of the training samples weighted by the TRUE likelihood)\n",
    "2. testing data\n",
    "3. prior samples weighted by the SURROGATE likelihood\n",
    "\n",
    "The RHS shows the true vs surrogate likelihoods and their uncertainties.\n",
    "\n",
    "```{warning}\n",
    "The surrrogate likelihood uncertainties andd values seem very strange! Is this a plotting error??\n",
    "```\n",
    "\n",
    "### Sampling using the LnL-GP surrogate\n",
    "\n",
    "![](out_surr/out_n_1000/surr_run_1000_checkpoint_trace.png)\n",
    "\n",
    "\n",
    "### Inference results\n",
    "\n",
    "|        | median               | maxlnl   | inj     |\n",
    "|:-------|:---------------------|:---------|:--------|\n",
    "| aSF    | 0.01                 | 0.01     | 0.01    |\n",
    "| dSF    | 4.74^{+0.35}_{-0.3}  | 4.52     | 4.43    |\n",
    "| muz    | -0.3^{+0.02}_{-0.02} | -0.29    | -0.28   |\n",
    "| sigma0 | 0.52^{+0.07}_{-0.05} | 0.57     | 0.51    |\n",
    "| lnl    | -                    | -146.55  | -146.97 |\n",
    "\n",
    "\n",
    "![](out_surr/out_n_1000/sampling_summary.png)\n"
   ],
   "metadata": {
    "collapsed": false
   }
  }
 ],
 "metadata": {
  "kernelspec": {
   "display_name": "Python 3",
   "language": "python",
   "name": "python3"
  },
  "language_info": {
   "codemirror_mode": {
    "name": "ipython",
    "version": 2
   },
   "file_extension": ".py",
   "mimetype": "text/x-python",
   "name": "python",
   "nbconvert_exporter": "python",
   "pygments_lexer": "ipython2",
   "version": "2.7.6"
  }
 },
 "nbformat": 4,
 "nbformat_minor": 0
}
