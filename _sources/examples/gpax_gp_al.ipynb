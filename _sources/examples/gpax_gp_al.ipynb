{
 "cells": [
  {
   "cell_type": "markdown",
   "metadata": {},
   "source": [
    "# GPax and Active Learning"
   ]
  },
  {
   "cell_type": "code",
   "execution_count": null,
   "metadata": {
    "ExecuteTime": {
     "start_time": "2023-08-23T01:26:04.794Z"
    }
   },
   "outputs": [],
   "source": [
    "! pip install git+https://github.com/ziatdinovmax/gpax -q"
   ]
  },
  {
   "cell_type": "code",
   "execution_count": null,
   "metadata": {
    "ExecuteTime": {
     "start_time": "2023-08-23T01:26:04.795Z"
    }
   },
   "outputs": [],
   "source": [
    "%load_ext autoreload\n",
    "%autoreload 2"
   ]
  },
  {
   "cell_type": "markdown",
   "source": [
    "..include:: .gpax_and_al.py"
   ],
   "metadata": {
    "collapsed": false
   }
  },
  {
   "cell_type": "code",
   "execution_count": 10,
   "outputs": [],
   "source": [
    "import numpy as np\n",
    "import matplotlib.pyplot as plt\n",
    "from plotting import ACQ_COLORS\n",
    "\n",
    "\n",
    "\n",
    "def plot_all_mse():\n",
    "    FN = \"./gpax_figures/dataset_{i}/{acq}/mse.txt\"\n",
    "\n",
    "    for i in [1, 2, 3]:\n",
    "        plt.figure()\n",
    "        for acq, col in ACQ_COLORS.items():\n",
    "            mse = np.loadtxt(FN.format(i=i, acq=acq))\n",
    "            plt.plot(mse, color=col, label=acq)\n",
    "        plt.legend()\n",
    "        plt.axhline(0, color='k', linestyle='--')\n",
    "        plt.ylabel(\"MSE\")\n",
    "        plt.xlabel(\"Iteration\")\n",
    "        plt.tight_layout()\n",
    "        plt.savefig(f'./gpax_figures/dataset_{i}/mse.png')\n",
    "\n",
    "        plt.close()\n",
    "\n",
    "plot_all_mse()\n"
   ],
   "metadata": {
    "collapsed": false
   }
  },
  {
   "cell_type": "markdown",
   "metadata": {},
   "source": [
    "![](figures/dataset_1/dataset_1.gif)"
   ]
  }
 ],
 "metadata": {
  "jupytext": {
   "formats": "ipynb,auto:percent"
  },
  "kernelspec": {
   "display_name": "Python 3 (ipykernel)",
   "language": "python",
   "name": "python3"
  },
  "language_info": {
   "codemirror_mode": {
    "name": "ipython",
    "version": 3
   },
   "file_extension": ".py",
   "mimetype": "text/x-python",
   "name": "python",
   "nbconvert_exporter": "python",
   "pygments_lexer": "ipython3",
   "version": "3.11.4"
  },
  "toc": {
   "base_numbering": 1,
   "nav_menu": {},
   "number_sections": true,
   "sideBar": true,
   "skip_h1_title": false,
   "title_cell": "Table of Contents",
   "title_sidebar": "Contents",
   "toc_cell": false,
   "toc_position": {},
   "toc_section_display": true,
   "toc_window_display": true
  },
  "varInspector": {
   "cols": {
    "lenName": 16,
    "lenType": 16,
    "lenVar": 40
   },
   "kernels_config": {
    "python": {
     "delete_cmd_postfix": "",
     "delete_cmd_prefix": "del ",
     "library": "var_list.py",
     "varRefreshCmd": "print(var_dic_list())"
    },
    "r": {
     "delete_cmd_postfix": ") ",
     "delete_cmd_prefix": "rm(",
     "library": "var_list.r",
     "varRefreshCmd": "cat(var_dic_list()) "
    }
   },
   "types_to_exclude": [
    "module",
    "function",
    "builtin_function_or_method",
    "instance",
    "_Feature"
   ],
   "window_display": false
  }
 },
 "nbformat": 4,
 "nbformat_minor": 1
}
